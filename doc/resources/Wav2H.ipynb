{
 "cells": [
  {
   "cell_type": "markdown",
   "metadata": {},
   "source": [
    "# WAV to Header File\n",
    "\n",
    "This is a simple Python demo that converts the wav files to header files which consist of "
   ]
  },
  {
   "cell_type": "code",
   "execution_count": 1,
   "metadata": {},
   "outputs": [
    {
     "name": "stdout",
     "output_type": "stream",
     "text": [
      "\u001b[33mDEPRECATION: Configuring installation scheme with distutils config files is deprecated and will no longer work in the near future. If you are using a Homebrew or Linuxbrew Python, please see discussion at https://github.com/Homebrew/homebrew-core/issues/76621\u001b[0m\u001b[33m\n",
      "\u001b[0mRequirement already satisfied: soundfile in /usr/local/lib/python3.9/site-packages (0.10.3.post1)\n",
      "Requirement already satisfied: cffi>=1.0 in /usr/local/lib/python3.9/site-packages (from soundfile) (1.14.4)\n",
      "Requirement already satisfied: pycparser in /usr/local/lib/python3.9/site-packages (from cffi>=1.0->soundfile) (2.20)\n",
      "\u001b[33mDEPRECATION: Configuring installation scheme with distutils config files is deprecated and will no longer work in the near future. If you are using a Homebrew or Linuxbrew Python, please see discussion at https://github.com/Homebrew/homebrew-core/issues/76621\u001b[0m\u001b[33m\n",
      "\u001b[0m"
     ]
    }
   ],
   "source": [
    "!pip3 install soundfile"
   ]
  },
  {
   "cell_type": "code",
   "execution_count": 2,
   "metadata": {},
   "outputs": [
    {
     "name": "stdout",
     "output_type": "stream",
     "text": [
      "Wav2H.ipynb                 \u001b[31mcello_open_string_bowed.wav\u001b[m\u001b[m\n",
      "beat2.wav                   kick.wav\n",
      "blip.wav                    snare.wav\n"
     ]
    }
   ],
   "source": [
    "!ls"
   ]
  },
  {
   "cell_type": "code",
   "execution_count": 1,
   "metadata": {},
   "outputs": [
    {
     "name": "stdout",
     "output_type": "stream",
     "text": [
      "processing beat2\n",
      "processing blip\n",
      "processing cello_open_string_bowed\n",
      "processing kick\n",
      "processing snare\n",
      "END\n"
     ]
    }
   ],
   "source": [
    "import soundfile as sf\n",
    "import sys\n",
    "\n",
    "def toHeaderFile(name):\n",
    "    data, fs = sf.read(''+name+'.wav')\n",
    "    with open('../../src/audio/'+name+'.h', 'w') as f:\n",
    "        print('processing', name)\n",
    "        print('#pragma once',file=f)\n",
    "        print(file=f)\n",
    "        print('const static float '+name+'_vector[] = {', file=f)\n",
    "        for idx, v in enumerate(data[0:-1]):\n",
    "            print(v, end='', file=f)\n",
    "            print(',', end='', file=f)\n",
    "            if idx%100==0:\n",
    "                print(file=f)\n",
    "        print(data[-1],'};',file=f)\n",
    "\n",
    "toHeaderFile('beat2')\n",
    "toHeaderFile('blip')\n",
    "toHeaderFile('cello_open_string_bowed')\n",
    "toHeaderFile('kick')\n",
    "toHeaderFile('snare')\n",
    "print('END')"
   ]
  }
 ],
 "metadata": {
  "interpreter": {
   "hash": "aee8b7b246df8f9039afb4144a1f6fd8d2ca17a180786b69acc140d282b71a49"
  },
  "kernelspec": {
   "display_name": "Python 3.9.6 64-bit",
   "language": "python",
   "name": "python3"
  },
  "language_info": {
   "codemirror_mode": {
    "name": "ipython",
    "version": 3
   },
   "file_extension": ".py",
   "mimetype": "text/x-python",
   "name": "python",
   "nbconvert_exporter": "python",
   "pygments_lexer": "ipython3",
   "version": "3.9.6"
  },
  "orig_nbformat": 4
 },
 "nbformat": 4,
 "nbformat_minor": 2
}
